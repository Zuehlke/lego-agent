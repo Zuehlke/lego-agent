{
 "cells": [
  {
   "cell_type": "code",
   "execution_count": 1,
   "metadata": {},
   "outputs": [
    {
     "name": "stdout",
     "output_type": "stream",
     "text": [
      "ChatCompletionMessage(content='Code within a code,\\nLooping through the mirrored depths,\\nInfinite unfolds.', refusal=None, role='assistant', function_call=None, tool_calls=None)\n"
     ]
    }
   ],
   "source": [
    "import os\n",
    "import json\n",
    "from openai import OpenAI\n",
    "from dotenv import load_dotenv\n",
    "\n",
    "load_dotenv()\n",
    "\n",
    "# Load config values\n",
    "with open(r\"config.json\") as config_file:\n",
    "    config_details = json.load(config_file)\n",
    "\n",
    "client = OpenAI()\n",
    "\n",
    "model_name = config_details[\"MODEL_NAME\"]\n",
    "\n",
    "completion = client.chat.completions.create(\n",
    "    model=\"gpt-4o\",\n",
    "    messages=[\n",
    "        {\"role\": \"system\", \"content\": \"You are a helpful assistant.\"},\n",
    "        {\n",
    "            \"role\": \"user\",\n",
    "            \"content\": \"Write a haiku about recursion in programming.\"\n",
    "        }\n",
    "    ]\n",
    ")\n",
    "print(completion.choices[0].message)\n"
   ]
  },
  {
   "cell_type": "code",
   "execution_count": 2,
   "metadata": {},
   "outputs": [
    {
     "name": "stdout",
     "output_type": "stream",
     "text": [
      "[('all_leds_off', '\\n            \"description\": \"Turn all LEDs off\"\\n        '), ('animate_police_lights', '\\n            \"description\": \"Cycle the group1 and group2 LEDs between color1 and color2 to give the effect of police lights.  Alternate the group1 and group2 LEDs every sleeptime seconds. Animate for duration seconds.  If duration is None animate for forever.\",\\n            \"parameters\": {\\n                \"type\": \"object\",\\n                \"properties\": {\\n                    \"color1\": {\\n                        \"type\": \"string\",\\n                        \"enum\": [\"BLACK\", \"RED\", \"GREEN\", \"AMBER\", \"ORANGE\", \"YELLOW\"]\\n                    },\\n                    \"color2\": {\\n                        \"type\": \"string\",\\n                        \"enum\": [\"BLACK\", \"RED\", \"GREEN\", \"AMBER\", \"ORANGE\", \"YELLOW\"]\\n                    },\\n                    \"group1\": {\\n                        \"type\": \"string\",\\n                        \"description\": \"Which LED to change the color.\",\\n                        \"enum\": [\"LEFT\", \"RIGHT\", \"BOTH\"]\\n                    },\\n                    \"group2\": {\\n                        \"type\": \"string\",\\n                        \"description\": \"Which LED to change the color.\",\\n                        \"enum\": [\"LEFT\", \"RIGHT\", \"BOTH\"]\\n                    },\\n                },\\n                \"required\": []\\n            }\\n        '), ('animate_stop', '\\n            \"description\": \"Stop all animation\"\\n        '), ('set_led_color', '\\n            \"description\": \"Set the color of a specific LED\",\\n            \"parameters\": {\\n                \"type\": \"object\",\\n                \"properties\": {\\n                    \"group\": {\\n                        \"type\": \"string\",\\n                        \"description\": \"Which LED to change the color.\",\\n                        \"enum\": [\"LEFT\", \"RIGHT\", \"BOTH\"]\\n                    },\\n                    \"color\": {\\n                        \"type\": \"string\",\\n                        \"enum\": [\"BLACK\", \"RED\", \"GREEN\", \"AMBER\", \"ORANGE\", \"YELLOW\"]\\n                    },\\n                },\\n                \"required\": [\"group\", \"color\"]\\n            }\\n        ')]\n"
     ]
    },
    {
     "data": {
      "text/plain": [
       "[{'type': 'function',\n",
       "  'function': {'name': 'all_leds_off', 'description': 'Turn all LEDs off'}},\n",
       " {'type': 'function',\n",
       "  'function': {'name': 'animate_police_lights',\n",
       "   'description': 'Cycle the group1 and group2 LEDs between color1 and color2 to give the effect of police lights.  Alternate the group1 and group2 LEDs every sleeptime seconds. Animate for duration seconds.  If duration is None animate for forever.',\n",
       "   'parameters': {'type': 'object',\n",
       "    'properties': {'color1': {'type': 'string',\n",
       "      'enum': ['BLACK', 'RED', 'GREEN', 'AMBER', 'ORANGE', 'YELLOW']},\n",
       "     'color2': {'type': 'string',\n",
       "      'enum': ['BLACK', 'RED', 'GREEN', 'AMBER', 'ORANGE', 'YELLOW']},\n",
       "     'group1': {'type': 'string',\n",
       "      'description': 'Which LED to change the color.',\n",
       "      'enum': ['LEFT', 'RIGHT', 'BOTH']},\n",
       "     'group2': {'type': 'string',\n",
       "      'description': 'Which LED to change the color.',\n",
       "      'enum': ['LEFT', 'RIGHT', 'BOTH']}},\n",
       "    'required': []}}},\n",
       " {'type': 'function',\n",
       "  'function': {'name': 'animate_stop', 'description': 'Stop all animation'}},\n",
       " {'type': 'function',\n",
       "  'function': {'name': 'set_led_color',\n",
       "   'description': 'Set the color of a specific LED',\n",
       "   'parameters': {'type': 'object',\n",
       "    'properties': {'group': {'type': 'string',\n",
       "      'description': 'Which LED to change the color.',\n",
       "      'enum': ['LEFT', 'RIGHT', 'BOTH']},\n",
       "     'color': {'type': 'string',\n",
       "      'enum': ['BLACK', 'RED', 'GREEN', 'AMBER', 'ORANGE', 'YELLOW']}},\n",
       "    'required': ['group', 'color']}}}]"
      ]
     },
     "execution_count": 2,
     "metadata": {},
     "output_type": "execute_result"
    }
   ],
   "source": [
    "from simple_robot import SimpleRobot\n",
    "import re\n",
    "import ast\n",
    "robot = SimpleRobot()\n",
    "\n",
    "def list_functions_with_docs(obj):\n",
    "    return [(attr, getattr(obj, attr).__doc__) for attr in dir(obj) if callable(getattr(obj, attr)) and not attr.startswith(\"__\")]\n",
    "\n",
    "robot_functions = list_functions_with_docs(robot)\n",
    "print(robot_functions)\n",
    "\n",
    "tools = []\n",
    "\n",
    "def string_to_dict(s):\n",
    "    s = s.strip()\n",
    "    s = '{' + s + '}'\n",
    "    \n",
    "    # Replace single quotes with double quotes for JSON compatibility\n",
    "    s = re.sub(r\"'\", '\"', s)\n",
    "    \n",
    "    # Replace Python-style True/False with JSON-style true/false\n",
    "    s = s.replace('True', 'true').replace('False', 'false')\n",
    "    \n",
    "    try:\n",
    "        # Use ast.literal_eval to safely evaluate the string\n",
    "        return ast.literal_eval(s)\n",
    "    except (SyntaxError, ValueError) as e:\n",
    "        print(f\"Error parsing string: {e}\")\n",
    "        return None\n",
    "\n",
    "for fun_name, docstr in robot_functions:\n",
    "    fun_desc = {}\n",
    "    if docstr:\n",
    "        fun_desc = string_to_dict(docstr)\n",
    "    tools += [{\n",
    "                \"type\": \"function\",\n",
    "                \"function\": {\n",
    "                    \"name\": fun_name\n",
    "                }\n",
    "              }]\n",
    "    tools[-1][\"function\"].update(fun_desc)\n",
    "tools"
   ]
  },
  {
   "cell_type": "code",
   "execution_count": 42,
   "metadata": {},
   "outputs": [],
   "source": [
    "messages = [{\"role\": \"system\", \"content\": \"You control a legon mindstorms robot with evdev3 by calling different functions that execute commands on the robot\"},\n",
    "            {\"role\": \"user\", \"content\": \"make the right light green\"}]\n",
    "\n",
    "# Call the model with the user query (messages) and the functions defined in the functions parameter\n",
    "response = client.chat.completions.create(\n",
    "    model=model_name,\n",
    "    messages=messages,\n",
    "    tools=tools,\n",
    "    tool_choice=\"auto\",\n",
    ")\n"
   ]
  },
  {
   "cell_type": "code",
   "execution_count": 43,
   "metadata": {},
   "outputs": [],
   "source": [
    "import xmlrpc.client\n",
    "import inspect\n",
    "\n",
    "s = xmlrpc.client.ServerProxy('http://192.168.178.145:8000', allow_none=True)\n",
    "\n",
    "available_functions = {}\n",
    "for fun_name, _ in robot_functions:\n",
    "    available_functions[fun_name] = getattr(s, fun_name)\n",
    "\n",
    "chosen_fn_name = response.choices[0].message.tool_calls[0].function.name\n",
    "function_args = json.loads(response.choices[0].message.tool_calls[0].function.arguments)\n",
    "\n",
    "args = []\n",
    "for arg in list(inspect.signature(getattr(robot, fun_name)).parameters):\n",
    "    if arg in function_args.keys():\n",
    "        args += [function_args[arg]]\n",
    "\n",
    "available_functions[chosen_fn_name](*args)"
   ]
  },
  {
   "cell_type": "code",
   "execution_count": 30,
   "metadata": {},
   "outputs": [
    {
     "data": {
      "text/plain": [
       "['LEFT', 'GREEN']"
      ]
     },
     "execution_count": 30,
     "metadata": {},
     "output_type": "execute_result"
    }
   ],
   "source": [
    "args"
   ]
  },
  {
   "cell_type": "code",
   "execution_count": 17,
   "metadata": {},
   "outputs": [
    {
     "data": {
      "text/plain": [
       "{'group': 'LEFT', 'color': 'GREEN'}"
      ]
     },
     "execution_count": 17,
     "metadata": {},
     "output_type": "execute_result"
    }
   ],
   "source": [
    "function_args"
   ]
  },
  {
   "cell_type": "code",
   "execution_count": 27,
   "metadata": {},
   "outputs": [
    {
     "data": {
      "text/plain": [
       "['group', 'color', 'pct']"
      ]
     },
     "execution_count": 27,
     "metadata": {},
     "output_type": "execute_result"
    }
   ],
   "source": [
    "import inspect\n",
    "list(inspect.signature(robot.set_led_color).parameters)"
   ]
  },
  {
   "cell_type": "code",
   "execution_count": null,
   "metadata": {},
   "outputs": [],
   "source": []
  }
 ],
 "metadata": {
  "kernelspec": {
   "display_name": ".venv",
   "language": "python",
   "name": "python3"
  },
  "language_info": {
   "codemirror_mode": {
    "name": "ipython",
    "version": 3
   },
   "file_extension": ".py",
   "mimetype": "text/x-python",
   "name": "python",
   "nbconvert_exporter": "python",
   "pygments_lexer": "ipython3",
   "version": "3.10.11"
  }
 },
 "nbformat": 4,
 "nbformat_minor": 2
}
